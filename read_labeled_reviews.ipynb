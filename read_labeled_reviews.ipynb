{
  "nbformat": 4,
  "nbformat_minor": 0,
  "metadata": {
    "colab": {
      "name": "read_labeled_reviews.ipynb",
      "provenance": [],
      "collapsed_sections": [],
      "authorship_tag": "ABX9TyMY6bFAWAbli1Ph22H+kKus",
      "include_colab_link": true
    },
    "kernelspec": {
      "name": "python3",
      "display_name": "Python 3"
    }
  },
  "cells": [
    {
      "cell_type": "markdown",
      "metadata": {
        "id": "view-in-github",
        "colab_type": "text"
      },
      "source": [
        "<a href=\"https://colab.research.google.com/github/nebulousman/labeling_reviews/blob/main/read_labeled_reviews.ipynb\" target=\"_parent\"><img src=\"https://colab.research.google.com/assets/colab-badge.svg\" alt=\"Open In Colab\"/></a>"
      ]
    },
    {
      "cell_type": "markdown",
      "metadata": {
        "id": "G8nQZTDJzmcq"
      },
      "source": [
        "## **Read Excel files with Labeled Reviews into DataFrame**\r\n",
        "Dariush Moghadam"
      ]
    },
    {
      "cell_type": "markdown",
      "metadata": {
        "id": "kk_yl5i90JOL"
      },
      "source": [
        "An earlier notebook (https://colab.research.google.com/drive/1xIfchmeOSgsQkkMRIRnWJiG6JSDlQs_e?authuser=1#scrollTo=oz9FSt-myoVj) selected random collection of consumer reviews of herbal products and distributed to volunteers for labeling.\r\n",
        "\r\n",
        "This code reads the returned excel spreadsheets with labels and appends the Master Data containing returned/labeled reviews. Filename 'returned_labels_MASTER.csv' will then be processed and cleaned into a separate file for future analysis & addition to the original reviews file. As more labeled data is added to 'returned_labels_MASTER.csv' the cleaning process can be repeated.\r\n",
        "\r\n",
        "This code also archives the labeled xlsx files that have been processed in a separate folder named 'processed'."
      ]
    },
    {
      "cell_type": "code",
      "metadata": {
        "colab": {
          "base_uri": "https://localhost:8080/"
        },
        "id": "V72B73wszHv3",
        "outputId": "17f3e1e4-16a1-4730-fc80-df5d396c07b0"
      },
      "source": [
        "#connect to google drive for dataset\r\n",
        "# mount google drive for access to dataset previously added to the drive\r\n",
        "from google.colab import drive\r\n",
        "drive.mount('/content/drive')\r\n",
        "#if you need to remount drive\r\n",
        "#drive.mount('/content/drive', force_remount=True)"
      ],
      "execution_count": null,
      "outputs": [
        {
          "output_type": "stream",
          "text": [
            "Mounted at /content/drive\n"
          ],
          "name": "stdout"
        }
      ]
    },
    {
      "cell_type": "code",
      "metadata": {
        "id": "oz9FSt-myoVj"
      },
      "source": [
        "#imports\n",
        "import pandas as pd\n",
        "import numpy as np\n",
        "import openpyxl\n",
        "from pathlib import Path\n",
        "import shutil\n",
        "import os"
      ],
      "execution_count": null,
      "outputs": []
    },
    {
      "cell_type": "code",
      "metadata": {
        "id": "Z1ADFS8QM1lN"
      },
      "source": [
        "path = '/content/drive/My Drive/Analysis/labeling_reviews'\n",
        "\n",
        "df = pd.concat([pd.read_excel(f, engine='openpyxl').dropna(how='all').dropna(axis=1,how='all')\n",
        "                for f in Path(path+'/labeled_reviews').rglob('*.xlsx')])"
      ],
      "execution_count": null,
      "outputs": []
    },
    {
      "cell_type": "code",
      "metadata": {
        "id": "7mGWuw_UcJ1e",
        "colab": {
          "base_uri": "https://localhost:8080/"
        },
        "outputId": "03b4bab1-8932-4dcb-d00e-bfa40074001d"
      },
      "source": [
        "df.shape\r\n",
        "#df_previous.shape\r\n",
        "#df.dtypes"
      ],
      "execution_count": null,
      "outputs": [
        {
          "output_type": "execute_result",
          "data": {
            "text/plain": [
              "(100, 10)"
            ]
          },
          "metadata": {
            "tags": []
          },
          "execution_count": 4
        }
      ]
    },
    {
      "cell_type": "code",
      "metadata": {
        "id": "hNWswmneHrGI"
      },
      "source": [
        "#open previously imported xlsx files and append new data\r\n",
        "df_previous = pd.read_csv(path +'/master_files/returned_labels_MASTER.csv')"
      ],
      "execution_count": null,
      "outputs": []
    },
    {
      "cell_type": "code",
      "metadata": {
        "id": "0IBRJB1B9O6J"
      },
      "source": [
        "#concatenate dataframes - stack on top of each other\r\n",
        "df = pd.concat([df_previous,df], axis=0)"
      ],
      "execution_count": null,
      "outputs": []
    },
    {
      "cell_type": "code",
      "metadata": {
        "id": "5Zvgm42aIfN5"
      },
      "source": [
        "#save file - note this overwrites previous version of returned_labels_MASTER.csv \r\n",
        "df.to_csv(path +'/master_files/returned_labels_MASTER.csv', index=False)"
      ],
      "execution_count": null,
      "outputs": []
    },
    {
      "cell_type": "code",
      "metadata": {
        "id": "D4JRQSpfNrPu"
      },
      "source": [
        "#move processed files to new directory called 'processed'\n",
        "source = path + '/labeled_reviews'\n",
        "destination = path+'/master_files/labeled_reviews_originals'\n",
        "\n",
        "file_names = [f for f in os.listdir(source) if f[-4:] == 'xlsx']\n",
        "    \n",
        "for file_name in file_names:\n",
        "    shutil.move(os.path.join(source, file_name), destination)"
      ],
      "execution_count": null,
      "outputs": []
    },
    {
      "cell_type": "code",
      "metadata": {
        "id": "SPRxEw46iH4N"
      },
      "source": [
        "#remove rows where all labels are null - if the review was blank, not English or about something other than medicinal foods,\r\n",
        "#volunteers were asked to skip which would result in no label assignment and all labels as null. We filter them out.\r\n",
        "df = df.iloc[(df.iloc[:,2:9].dropna(how='all')).index,:] "
      ],
      "execution_count": null,
      "outputs": []
    },
    {
      "cell_type": "code",
      "metadata": {
        "id": "Cb206mLY43kR"
      },
      "source": [
        "#save file - note this overwrites previous version of returned_labels_FOR_ANALYSIS.csv \r\n",
        "df.to_csv(path +'/processing_labels/returned_labels_FOR_ANALYSIS.csv', index=False)"
      ],
      "execution_count": null,
      "outputs": []
    },
    {
      "cell_type": "code",
      "metadata": {
        "id": "XvPtxPj1i-sH"
      },
      "source": [
        "#further cleanup\n",
        "#rename columns\n",
        "df.columns=['ID_allreviews_index','review','what_reviewed','sentiment',\n",
        "             'effective_general','effective_stress','effective_sleep',\n",
        "             'effective_anxiety','sideeffect','ProductName']\n",
        "\n",
        "#ensure there are no dupes and set index to match index of allreviews.csv\n",
        "df=df.drop_duplicates()\n",
        "#df= df.set_index('ID_allreviews_index')\n",
        "\n",
        "#drop product name - name was needed to give context to labelers\n",
        "df=df.drop(['ProductName'], axis=1)\n",
        "\n",
        "#insert numeric values for labels\n",
        "df['what_reviewed']=df['what_reviewed'].map({'0 - Just the Service':0,'1 - Just the Product or unknown':1,'2 - Both':2})\n",
        "df['sentiment']=df['sentiment'].map({'0=Neutral':0,'1=Positive':1,'2=Negative1':2})\n",
        "df['effective_general']=df['effective_general'].map({'3 - review does not say':3,'1 - YES':1,'2 - NO does not work':2})\n",
        "df['effective_stress']=df['effective_stress'].map({'3 - review does not say':3,'1 - YES':1,'2 - NO does not work':2})\n",
        "df['effective_sleep']=df['effective_sleep'].map({'3 - review does not say':3,'1 - YES':1,'2 - NO does not work':2})\n",
        "df['effective_anxiety']=df['effective_anxiety'].map({'3 - review does not say':3,'1 - YES':1,'2 - NO does not work':2})\n",
        "df['sideeffect']=df['sideeffect'].map({'0 - NO':0,'1 - YES':1})\n",
        "\n",
        "#cleanup - replace null values\n",
        "df['what_reviewed']=df['what_reviewed'].fillna(1).astype(np.int64)\n",
        "df['sentiment']=df['sentiment'].fillna(0).astype(np.int64)\n",
        "df['effective_general']=df['effective_general'].fillna(3).astype(np.int64)\n",
        "df['effective_stress']=df['effective_stress'].fillna(3).astype(np.int64)\n",
        "df['effective_sleep']=df['effective_sleep'].fillna(3).astype(np.int64)\n",
        "df['effective_anxiety']=df['effective_anxiety'].fillna(3).astype(np.int64)\n",
        "df['sideeffect']=df['sideeffect'].fillna(0).astype(np.int64)\n"
      ],
      "execution_count": null,
      "outputs": []
    },
    {
      "cell_type": "code",
      "metadata": {
        "id": "4i6pH2RLkPLK"
      },
      "source": [
        "#save file - note this overwrites previous version of codedlabels_FOR_MODEL.csv \r\n",
        "df.to_csv(path +'/processing_labels/codedlabels_FOR_MODEL.csv', index=False)"
      ],
      "execution_count": null,
      "outputs": []
    }
  ]
}
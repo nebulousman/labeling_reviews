{
  "nbformat": 4,
  "nbformat_minor": 0,
  "metadata": {
    "colab": {
      "name": "read_labeled_reviews.ipynb",
      "provenance": [],
      "collapsed_sections": [],
      "authorship_tag": "ABX9TyNpoKf4o1qLvAnLMALxys4P",
      "include_colab_link": true
    },
    "kernelspec": {
      "name": "python3",
      "display_name": "Python 3"
    }
  },
  "cells": [
    {
      "cell_type": "markdown",
      "metadata": {
        "id": "view-in-github",
        "colab_type": "text"
      },
      "source": [
        "<a href=\"https://colab.research.google.com/github/nebulousman/labeling_reviews/blob/main/read_labeled_reviews.ipynb\" target=\"_parent\"><img src=\"https://colab.research.google.com/assets/colab-badge.svg\" alt=\"Open In Colab\"/></a>"
      ]
    },
    {
      "cell_type": "markdown",
      "metadata": {
        "id": "G8nQZTDJzmcq"
      },
      "source": [
        "## **Read Excel files with Labeled Reviews into DataFrame**\r\n",
        "Dariush Moghadam"
      ]
    },
    {
      "cell_type": "markdown",
      "metadata": {
        "id": "kk_yl5i90JOL"
      },
      "source": [
        "An earlier notebook (https://colab.research.google.com/drive/1xIfchmeOSgsQkkMRIRnWJiG6JSDlQs_e?authuser=1#scrollTo=oz9FSt-myoVj) selected random collection of consumer reviews of herbal products and distributed to volunteers for labeling.\r\n",
        "\r\n",
        "This code reads the returned excel spreadsheets with labels and appends the Master Data containing returned/labeled reviews. Filename 'returned_labels_MASTER.csv' will then be processed and cleaned into a separate file for future analysis & addition to the original reviews file. As more labeled data is added to 'returned_labels_MASTER.csv' the cleaning process can be repeated.\r\n",
        "\r\n",
        "This code also archives the labeled xlsx files that have been processed in a separate folder named 'processed'."
      ]
    },
    {
      "cell_type": "code",
      "metadata": {
        "colab": {
          "base_uri": "https://localhost:8080/"
        },
        "id": "V72B73wszHv3",
        "outputId": "77f1a011-1858-4781-80a1-83000cde2a6b"
      },
      "source": [
        "#connect to google drive for dataset\r\n",
        "# mount google drive for access to dataset previously added to the drive\r\n",
        "from google.colab import drive\r\n",
        "drive.mount('/content/drive')\r\n",
        "#if you need to remount drive\r\n",
        "#drive.mount('/content/drive', force_remount=True)"
      ],
      "execution_count": null,
      "outputs": [
        {
          "output_type": "stream",
          "text": [
            "Mounted at /content/drive\n"
          ],
          "name": "stdout"
        }
      ]
    },
    {
      "cell_type": "code",
      "metadata": {
        "id": "oz9FSt-myoVj"
      },
      "source": [
        "#imports\n",
        "import pandas as pd\n",
        "import openpyxl\n",
        "from pathlib import Path\n",
        "import shutil\n",
        "import os"
      ],
      "execution_count": null,
      "outputs": []
    },
    {
      "cell_type": "code",
      "metadata": {
        "id": "Z1ADFS8QM1lN"
      },
      "source": [
        "path = '/content/drive/My Drive/Analysis/labeling_reviews'\n",
        "\n",
        "df = pd.concat([pd.read_excel(f, engine='openpyxl').dropna(how='all').dropna(axis=1,how='all')\n",
        "                for f in Path(path+'/labeled_reviews').rglob('*.xlsx')])"
      ],
      "execution_count": null,
      "outputs": []
    },
    {
      "cell_type": "code",
      "metadata": {
        "id": "7mGWuw_UcJ1e"
      },
      "source": [
        "df.shape"
      ],
      "execution_count": null,
      "outputs": []
    },
    {
      "cell_type": "code",
      "metadata": {
        "id": "hNWswmneHrGI"
      },
      "source": [
        "#open previously imported xlsx files and append new data\r\n",
        "df_previous = pd.read_csv(path +'/master_files/returned_labels_MASTER.csv')\r\n",
        "\r\n",
        "#concatenate dataframes - stack on top of each other\r\n",
        "df = pd.concat([df_previous,df], axis=0)"
      ],
      "execution_count": null,
      "outputs": []
    },
    {
      "cell_type": "code",
      "metadata": {
        "id": "5Zvgm42aIfN5"
      },
      "source": [
        "#save file - note this overwrites previous version of returned_labels_MASTER.csv \r\n",
        "df.to_csv(path +'/master_files/returned_labels_MASTER.csv', index=False)"
      ],
      "execution_count": null,
      "outputs": []
    },
    {
      "cell_type": "code",
      "metadata": {
        "id": "D4JRQSpfNrPu"
      },
      "source": [
        "#move processed files to new directory called 'processed'\n",
        "source = path + '/labeled_reviews'\n",
        "destination = path+'/master_files/labeled_reviews_originals'\n",
        "\n",
        "file_names = [f for f in os.listdir(source) if f[-4:] == 'xlsx']\n",
        "    \n",
        "for file_name in file_names:\n",
        "    shutil.move(os.path.join(source, file_name), destination)"
      ],
      "execution_count": null,
      "outputs": []
    }
  ]
}
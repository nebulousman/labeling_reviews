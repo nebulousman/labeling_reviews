{
  "nbformat": 4,
  "nbformat_minor": 0,
  "metadata": {
    "colab": {
      "name": "labelingexport.ipynb",
      "provenance": [],
      "collapsed_sections": [],
      "authorship_tag": "ABX9TyO3gMV0erRz75z0vZVBpEWq",
      "include_colab_link": true
    },
    "kernelspec": {
      "name": "python3",
      "display_name": "Python 3"
    }
  },
  "cells": [
    {
      "cell_type": "markdown",
      "metadata": {
        "id": "view-in-github",
        "colab_type": "text"
      },
      "source": [
        "<a href=\"https://colab.research.google.com/github/nebulousman/labeling_reviews/blob/main/labelingexport.ipynb\" target=\"_parent\"><img src=\"https://colab.research.google.com/assets/colab-badge.svg\" alt=\"Open In Colab\"/></a>"
      ]
    },
    {
      "cell_type": "markdown",
      "metadata": {
        "id": "G8nQZTDJzmcq"
      },
      "source": [
        "## **Select Random Samples of Reviews for Labeling**\r\n",
        "Dariush Moghadam"
      ]
    },
    {
      "cell_type": "markdown",
      "metadata": {
        "id": "kk_yl5i90JOL"
      },
      "source": [
        "\r\n",
        "This code was created for CrowdDoing and the effort toward manually-curated “gold” labels of reviews for training NLP models. The goal is an automated script that randomly samples the review dataset and writes to excel document which can be easily distributed to anyone for labeling. Excel is selected for two reasons: 1) most people have the software; and 2) the ability to restrict input values and maintain data integrity.\r\n"
      ]
    },
    {
      "cell_type": "code",
      "metadata": {
        "colab": {
          "base_uri": "https://localhost:8080/"
        },
        "id": "V72B73wszHv3",
        "outputId": "8f6d579c-f0b8-46c8-af4b-5c71ca7f6836"
      },
      "source": [
        "#connect to google drive for dataset\r\n",
        "# mount google drive for access to dataset previously added to the drive\r\n",
        "from google.colab import drive\r\n",
        "drive.mount('/content/drive')\r\n",
        "#if you need to remount drive\r\n",
        "#drive.mount('/content/drive', force_remount=True)"
      ],
      "execution_count": null,
      "outputs": [
        {
          "output_type": "stream",
          "text": [
            "Drive already mounted at /content/drive; to attempt to forcibly remount, call drive.mount(\"/content/drive\", force_remount=True).\n"
          ],
          "name": "stdout"
        }
      ]
    },
    {
      "cell_type": "code",
      "metadata": {
        "id": "oz9FSt-myoVj"
      },
      "source": [
        "#imports\n",
        "import pandas as pd\n",
        "from openpyxl import load_workbook\n",
        "from openpyxl.styles import Alignment, Border, Side\n",
        "import time"
      ],
      "execution_count": null,
      "outputs": []
    },
    {
      "cell_type": "code",
      "metadata": {
        "id": "CCoLG4g2IKVI"
      },
      "source": [
        "#define function that writes dataframe to excel spreadsheet\r\n",
        "def createXLfile(sampledata):\r\n",
        "    book = load_workbook('/content/drive/My Drive/Analysis/labeling_reviews/master_files/Master.xlsx')\r\n",
        "    writer = pd.ExcelWriter('/content/drive/My Drive/Analysis/labeling_reviews/samples_to_label/Reviews'+time.strftime('%Y%m%d_%H%M%S')+'.xlsx', engine='openpyxl')\r\n",
        "    writer.book = book\r\n",
        "    writer.sheets = {ws.title: ws for ws in book.worksheets}\r\n",
        "    sampledata.to_excel(writer, sheet_name='Review_Labels', startrow=0, index=False)\r\n",
        "    for cell in writer.sheets['Review_Labels']['B']:\r\n",
        "        cell.alignment = Alignment(wrap_text=True)\r\n",
        "        cell.border = Border(bottom=Side(border_style='thin', color='000000'))\r\n",
        "    writer.save()"
      ],
      "execution_count": null,
      "outputs": []
    },
    {
      "cell_type": "code",
      "metadata": {
        "id": "0ICbdvRmJyEF"
      },
      "source": [
        "# read dataset into dataframe - change path if needed\r\n",
        "# note CrowdDoingAmazonReviewsFORSampling.csv is 2 columns of CrowdDoingAmazonReviews.csv - the ReviewContent + the ID which is the index\r\n",
        "# CrowdDoingAmazonReviewsFORSampling.csv is updated every time this notebook runs. Samples removed for labeling are removed from\r\n",
        "# CrowdDoingAmazonReviewsFORSampling.csv so they're not picked again - i.e. the updated file is loaded with this code block.\r\n",
        "# labeled reviews returned by volunteers can be mapped back to the original CrowdDoingAmazonReviews.csv using the ID index value\r\n",
        "df = pd.read_csv('/content/drive/My Drive/Analysis/labeling_reviews/master_files/CrowdDoingAmazonReviewsFORSampling.csv')"
      ],
      "execution_count": null,
      "outputs": []
    },
    {
      "cell_type": "code",
      "metadata": {
        "colab": {
          "base_uri": "https://localhost:8080/"
        },
        "id": "jaARYrjkoeZt",
        "outputId": "4f99a032-eb87-45df-e9c5-1ca480bfde3a"
      },
      "source": [
        "#explore imported file\r\n",
        "#df.head()\r\n",
        "#df.dtypes\r\n",
        "len(df)"
      ],
      "execution_count": null,
      "outputs": [
        {
          "output_type": "execute_result",
          "data": {
            "text/plain": [
              "531056"
            ]
          },
          "metadata": {
            "tags": []
          },
          "execution_count": 32
        }
      ]
    },
    {
      "cell_type": "code",
      "metadata": {
        "id": "IUbXuFcMXYIU"
      },
      "source": [
        "#set count of files and sample size of each file\r\n",
        "#samplecount is number or count of files to output & samplesize is number of records or rows per file\r\n",
        "samplecount=100\r\n",
        "samplesize=20"
      ],
      "execution_count": null,
      "outputs": []
    },
    {
      "cell_type": "code",
      "metadata": {
        "id": "P9P4IQBYy213",
        "colab": {
          "base_uri": "https://localhost:8080/"
        },
        "outputId": "6a96f0a3-443a-4078-a648-ad2d914984a5"
      },
      "source": [
        "for i in range(samplecount):\n",
        "    df_subset=df.sample(samplesize)\n",
        "    createXLfile(df_subset)\n",
        "    df=df.drop(df_subset.index)\n",
        "    time.sleep(1) #added because it may run too fast for unique naming thereby overwriting - note samplecount value/60 will be approx minutes this will run"
      ],
      "execution_count": null,
      "outputs": [
        {
          "output_type": "stream",
          "text": [
            "/usr/local/lib/python3.6/dist-packages/openpyxl/reader/worksheet.py:322: UserWarning: Unknown extension is not supported and will be removed\n",
            "  warn(msg)\n"
          ],
          "name": "stderr"
        }
      ]
    },
    {
      "cell_type": "code",
      "metadata": {
        "colab": {
          "base_uri": "https://localhost:8080/"
        },
        "id": "6h7aYDDI7ymn",
        "outputId": "513aec0a-b065-401a-9c7c-74bfe4650ca1"
      },
      "source": [
        "#compare to prior one - confirm samples were removed\r\n",
        "len(df)"
      ],
      "execution_count": null,
      "outputs": [
        {
          "output_type": "execute_result",
          "data": {
            "text/plain": [
              "529056"
            ]
          },
          "metadata": {
            "tags": []
          },
          "execution_count": 35
        }
      ]
    },
    {
      "cell_type": "code",
      "metadata": {
        "id": "rRaug2Zny8dS"
      },
      "source": [
        "#save remaining reviews (not sampled) for future sampling with this code\r\n",
        "df.to_csv('/content/drive/My Drive/Analysis/labeling_reviews/master_files/CrowdDoingAmazonReviewsFORSampling.csv', index=False)"
      ],
      "execution_count": null,
      "outputs": []
    }
  ]
}
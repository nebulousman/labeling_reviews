{
  "nbformat": 4,
  "nbformat_minor": 0,
  "metadata": {
    "colab": {
      "name": "explore_labels.ipynb",
      "provenance": [],
      "collapsed_sections": [],
      "authorship_tag": "ABX9TyPBicxO3Y/Qmkg/IvhMGpIh",
      "include_colab_link": true
    },
    "kernelspec": {
      "name": "python3",
      "display_name": "Python 3"
    }
  },
  "cells": [
    {
      "cell_type": "markdown",
      "metadata": {
        "id": "view-in-github",
        "colab_type": "text"
      },
      "source": [
        "<a href=\"https://colab.research.google.com/github/nebulousman/labeling_reviews/blob/main/explore_labels.ipynb\" target=\"_parent\"><img src=\"https://colab.research.google.com/assets/colab-badge.svg\" alt=\"Open In Colab\"/></a>"
      ]
    },
    {
      "cell_type": "markdown",
      "metadata": {
        "id": "G8nQZTDJzmcq"
      },
      "source": [
        "## **Explore Labeled Reviews**\r\n",
        "Dariush Moghadam"
      ]
    },
    {
      "cell_type": "markdown",
      "metadata": {
        "id": "kk_yl5i90JOL"
      },
      "source": [
        "An earlier notebook (https://colab.research.google.com/drive/1WurJiUTK13xwZF6-PC53Ik8DXxuweEJ2?authuser=1#scrollTo=kk_yl5i90JOL) read the returned excel spreadsheets and created filename 'returned_labels_MASTER.csv'. This notebook begins cleaning and EDA. Note that 'returned_labels_MASTER.csv' is NOT modified as that file will be updated on an ongoing basis and is intended to be the Master file with original unmodified records."
      ]
    },
    {
      "cell_type": "code",
      "metadata": {
        "colab": {
          "base_uri": "https://localhost:8080/"
        },
        "id": "V72B73wszHv3",
        "outputId": "d305769b-cf40-4ef2-9ded-fccf8bcfcc6e"
      },
      "source": [
        "#connect to google drive for dataset\r\n",
        "# mount google drive for access to dataset previously added to the drive\r\n",
        "from google.colab import drive\r\n",
        "drive.mount('/content/drive')\r\n",
        "#if you need to remount drive\r\n",
        "#drive.mount('/content/drive', force_remount=True)"
      ],
      "execution_count": null,
      "outputs": [
        {
          "output_type": "stream",
          "text": [
            "Mounted at /content/drive\n"
          ],
          "name": "stdout"
        }
      ]
    },
    {
      "cell_type": "code",
      "metadata": {
        "id": "NWRYs7q2vcdd"
      },
      "source": [
        "#imports\r\n",
        "import pandas as pd"
      ],
      "execution_count": null,
      "outputs": []
    },
    {
      "cell_type": "code",
      "metadata": {
        "id": "Z1ADFS8QM1lN"
      },
      "source": [
        "path = '/content/drive/My Drive/Analysis/labeling_reviews'\n",
        "\n",
        "#read the latest collection of labels returned by volunteers - returned_labels_MASTER.csv \n",
        "df = pd.read_csv(path +'/processing_labels/returned_labels_FOR_ANALYSIS.csv')"
      ],
      "execution_count": null,
      "outputs": []
    },
    {
      "cell_type": "code",
      "metadata": {
        "colab": {
          "base_uri": "https://localhost:8080/"
        },
        "id": "jtHAlFZFrq4x",
        "outputId": "8c39c10a-c1fc-4f90-f526-588af46d7ec2"
      },
      "source": [
        "#number of null labels\r\n",
        "df.isnull().sum()"
      ],
      "execution_count": null,
      "outputs": [
        {
          "output_type": "execute_result",
          "data": {
            "text/plain": [
              "ID_allreviews_index                       0\n",
              "ReviewContent                             0\n",
              "what was reviewed?                        0\n",
              "product sentiment                         6\n",
              "was product effective in general?         5\n",
              "was product effective for STRESS?         4\n",
              "was product effective for SLEEP?          4\n",
              "was product effective for ANXIETY?        4\n",
              "did review mention any SIDE EFFECT?       5\n",
              "ProductName                            1472\n",
              "dtype: int64"
            ]
          },
          "metadata": {
            "tags": []
          },
          "execution_count": 12
        }
      ]
    },
    {
      "cell_type": "code",
      "metadata": {
        "colab": {
          "base_uri": "https://localhost:8080/"
        },
        "id": "w9Ci4msZxQF6",
        "outputId": "b3d71aa4-2936-4a0e-dc3f-9371fa1d85f7"
      },
      "source": [
        "#look at distribution of labels\r\n",
        "label_cols = df.iloc[:,2:9]\r\n",
        "for c in label_cols:\r\n",
        "    print (\"---- %s ---\" % c)\r\n",
        "    print (df[c].value_counts())\r\n",
        "    print (df[c].value_counts(normalize=True)*100)"
      ],
      "execution_count": null,
      "outputs": [
        {
          "output_type": "stream",
          "text": [
            "---- what was reviewed? ---\n",
            "1 - Just the Product or unknown    2632\n",
            "2 - Both                            174\n",
            "0 - Just the Service                140\n",
            "Name: what was reviewed?, dtype: int64\n",
            "1 - Just the Product or unknown    89.341480\n",
            "2 - Both                            5.906314\n",
            "0 - Just the Service                4.752206\n",
            "Name: what was reviewed?, dtype: float64\n",
            "---- product sentiment ---\n",
            "1=Positive    1344\n",
            "2=Negative     918\n",
            "0=Neutral      678\n",
            "Name: product sentiment, dtype: int64\n",
            "1=Positive    45.714286\n",
            "2=Negative    31.224490\n",
            "0=Neutral     23.061224\n",
            "Name: product sentiment, dtype: float64\n",
            "---- was product effective in general? ---\n",
            "3 - review does not say    1530\n",
            "1 - YES                     878\n",
            "2 - NO does not work        533\n",
            "Name: was product effective in general?, dtype: int64\n",
            "3 - review does not say    52.023121\n",
            "1 - YES                    29.853791\n",
            "2 - NO does not work       18.123087\n",
            "Name: was product effective in general?, dtype: float64\n",
            "---- was product effective for STRESS? ---\n",
            "3 - review does not say    2869\n",
            "1 - YES                      51\n",
            "2 - NO does not work         22\n",
            "Name: was product effective for STRESS?, dtype: int64\n",
            "3 - review does not say    97.518695\n",
            "1 - YES                     1.733515\n",
            "2 - NO does not work        0.747791\n",
            "Name: was product effective for STRESS?, dtype: float64\n",
            "---- was product effective for SLEEP? ---\n",
            "3 - review does not say    2793\n",
            "1 - YES                      90\n",
            "2 - NO does not work         59\n",
            "Name: was product effective for SLEEP?, dtype: int64\n",
            "3 - review does not say    94.935418\n",
            "1 - YES                     3.059143\n",
            "2 - NO does not work        2.005438\n",
            "Name: was product effective for SLEEP?, dtype: float64\n",
            "---- was product effective for ANXIETY? ---\n",
            "3 - review does not say    2868\n",
            "1 - YES                      50\n",
            "2 - NO does not work         24\n",
            "Name: was product effective for ANXIETY?, dtype: int64\n",
            "3 - review does not say    97.484704\n",
            "1 - YES                     1.699524\n",
            "2 - NO does not work        0.815772\n",
            "Name: was product effective for ANXIETY?, dtype: float64\n",
            "---- did review mention any SIDE EFFECT? ---\n",
            "0 - NO                     2684\n",
            "1 - YES                     237\n",
            "3 - review does not say      20\n",
            "Name: did review mention any SIDE EFFECT?, dtype: int64\n",
            "0 - NO                     91.261476\n",
            "1 - YES                     8.058484\n",
            "3 - review does not say     0.680041\n",
            "Name: did review mention any SIDE EFFECT?, dtype: float64\n"
          ],
          "name": "stdout"
        }
      ]
    }
  ]
}
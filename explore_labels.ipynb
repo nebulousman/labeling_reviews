{
  "nbformat": 4,
  "nbformat_minor": 0,
  "metadata": {
    "colab": {
      "name": "explore_labels.ipynb",
      "provenance": [],
      "collapsed_sections": [],
      "authorship_tag": "ABX9TyPkSKtAWtnDIKpGygYjI9uz",
      "include_colab_link": true
    },
    "kernelspec": {
      "name": "python3",
      "display_name": "Python 3"
    }
  },
  "cells": [
    {
      "cell_type": "markdown",
      "metadata": {
        "id": "view-in-github",
        "colab_type": "text"
      },
      "source": [
        "<a href=\"https://colab.research.google.com/github/nebulousman/labeling_reviews/blob/main/explore_labels.ipynb\" target=\"_parent\"><img src=\"https://colab.research.google.com/assets/colab-badge.svg\" alt=\"Open In Colab\"/></a>"
      ]
    },
    {
      "cell_type": "markdown",
      "metadata": {
        "id": "G8nQZTDJzmcq"
      },
      "source": [
        "## **Explore Labeled Reviews**\r\n",
        "Dariush Moghadam"
      ]
    },
    {
      "cell_type": "markdown",
      "metadata": {
        "id": "kk_yl5i90JOL"
      },
      "source": [
        "An earlier notebook (https://colab.research.google.com/drive/1WurJiUTK13xwZF6-PC53Ik8DXxuweEJ2?authuser=1#scrollTo=kk_yl5i90JOL) read the returned excel spreadsheets and created filename 'returned_labels_MASTER.csv'. This notebook begins cleaning and EDA. Note that 'returned_labels_MASTER.csv' is NOT modified as that file will be updated on an ongoing basis and is intended to be the Master file with original unmodified records."
      ]
    },
    {
      "cell_type": "code",
      "metadata": {
        "colab": {
          "base_uri": "https://localhost:8080/"
        },
        "id": "V72B73wszHv3",
        "outputId": "99585b9d-1c91-43a2-811a-840a22adcaa1"
      },
      "source": [
        "#connect to google drive for dataset\r\n",
        "# mount google drive for access to dataset previously added to the drive\r\n",
        "from google.colab import drive\r\n",
        "drive.mount('/content/drive')\r\n",
        "#if you need to remount drive\r\n",
        "#drive.mount('/content/drive', force_remount=True)"
      ],
      "execution_count": null,
      "outputs": [
        {
          "output_type": "stream",
          "text": [
            "Mounted at /content/drive\n"
          ],
          "name": "stdout"
        }
      ]
    },
    {
      "cell_type": "code",
      "metadata": {
        "id": "NWRYs7q2vcdd"
      },
      "source": [
        "#imports\r\n",
        "import pandas as pd"
      ],
      "execution_count": null,
      "outputs": []
    },
    {
      "cell_type": "code",
      "metadata": {
        "id": "Z1ADFS8QM1lN"
      },
      "source": [
        "path = '/content/drive/My Drive/Analysis/labeling_reviews'\n",
        "\n",
        "#read the latest collection of labels returned by volunteers - returned_labels_MASTER.csv \n",
        "df = pd.read_csv(path +'/master_files/returned_labels_MASTER.csv')"
      ],
      "execution_count": null,
      "outputs": []
    },
    {
      "cell_type": "code",
      "metadata": {
        "id": "5Zvgm42aIfN5"
      },
      "source": [
        "#remove rows where all labels are null - if the review was blank, not English or about something other than medicinal foods,\r\n",
        "#volunteers were asked to skip which would result in no label assignment and all labels as null. We filter them out.\r\n",
        "df = df.iloc[(df.iloc[:,2:9].dropna(how='all')).index,:] "
      ],
      "execution_count": null,
      "outputs": []
    },
    {
      "cell_type": "code",
      "metadata": {
        "id": "Cb206mLY43kR"
      },
      "source": [
        "#save file - note this overwrites previous version of returned_labels_FOR_ANALYSIS.csv \r\n",
        "df.to_csv(path +'/processing_labels/returned_labels_FOR_ANALYSIS.csv', index=False)"
      ],
      "execution_count": null,
      "outputs": []
    },
    {
      "cell_type": "code",
      "metadata": {
        "colab": {
          "base_uri": "https://localhost:8080/"
        },
        "id": "jtHAlFZFrq4x",
        "outputId": "d0d6d663-2e55-44cd-abfd-1ce44c57f212"
      },
      "source": [
        "#number of null labels\r\n",
        "df.isnull().sum()"
      ],
      "execution_count": null,
      "outputs": [
        {
          "output_type": "execute_result",
          "data": {
            "text/plain": [
              "ID_allreviews_index                    0\n",
              "ReviewContent                          0\n",
              "what was reviewed?                     0\n",
              "product sentiment                      6\n",
              "was product effective in general?      4\n",
              "was product effective for STRESS?      4\n",
              "was product effective for SLEEP?       4\n",
              "was product effective for ANXIETY?     4\n",
              "did review mention any SIDE EFFECT?    5\n",
              "dtype: int64"
            ]
          },
          "metadata": {
            "tags": []
          },
          "execution_count": 9
        }
      ]
    },
    {
      "cell_type": "code",
      "metadata": {
        "colab": {
          "base_uri": "https://localhost:8080/"
        },
        "id": "w9Ci4msZxQF6",
        "outputId": "03d35526-35d3-411c-f5ea-e95a0a9445b0"
      },
      "source": [
        "#look at distribution of labels\r\n",
        "label_cols = df.iloc[:,2:9]\r\n",
        "for c in label_cols:\r\n",
        "    print (\"---- %s ---\" % c)\r\n",
        "    print (df[c].value_counts())\r\n",
        "    print (df[c].value_counts(normalize=True)*100)"
      ],
      "execution_count": null,
      "outputs": [
        {
          "output_type": "stream",
          "text": [
            "---- what was reviewed? ---\n",
            "1 - Just the Product or unknown    923\n",
            "2 - Both                            60\n",
            "0 - Just the Service                45\n",
            "Name: what was reviewed?, dtype: int64\n",
            "1 - Just the Product or unknown    89.785992\n",
            "2 - Both                            5.836576\n",
            "0 - Just the Service                4.377432\n",
            "Name: what was reviewed?, dtype: float64\n",
            "---- product sentiment ---\n",
            "1=Positive    497\n",
            "2=Negative    344\n",
            "0=Neutral     181\n",
            "Name: product sentiment, dtype: int64\n",
            "1=Positive    48.630137\n",
            "2=Negative    33.659491\n",
            "0=Neutral     17.710372\n",
            "Name: product sentiment, dtype: float64\n",
            "---- was product effective in general? ---\n",
            "3 - review does not say    480\n",
            "1 - YES                    342\n",
            "2 - NO does not work       202\n",
            "Name: was product effective in general?, dtype: int64\n",
            "3 - review does not say    46.875000\n",
            "1 - YES                    33.398438\n",
            "2 - NO does not work       19.726562\n",
            "Name: was product effective in general?, dtype: float64\n",
            "---- was product effective for STRESS? ---\n",
            "3 - review does not say    986\n",
            "1 - YES                     28\n",
            "2 - NO does not work        10\n",
            "Name: was product effective for STRESS?, dtype: int64\n",
            "3 - review does not say    96.289062\n",
            "1 - YES                     2.734375\n",
            "2 - NO does not work        0.976562\n",
            "Name: was product effective for STRESS?, dtype: float64\n",
            "---- was product effective for SLEEP? ---\n",
            "3 - review does not say    978\n",
            "1 - YES                     27\n",
            "2 - NO does not work        19\n",
            "Name: was product effective for SLEEP?, dtype: int64\n",
            "3 - review does not say    95.507812\n",
            "1 - YES                     2.636719\n",
            "2 - NO does not work        1.855469\n",
            "Name: was product effective for SLEEP?, dtype: float64\n",
            "---- was product effective for ANXIETY? ---\n",
            "3 - review does not say    994\n",
            "1 - YES                     22\n",
            "2 - NO does not work         8\n",
            "Name: was product effective for ANXIETY?, dtype: int64\n",
            "3 - review does not say    97.070312\n",
            "1 - YES                     2.148438\n",
            "2 - NO does not work        0.781250\n",
            "Name: was product effective for ANXIETY?, dtype: float64\n",
            "---- did review mention any SIDE EFFECT? ---\n",
            "0 - NO                     920\n",
            "1 - YES                     83\n",
            "3 - review does not say     20\n",
            "Name: did review mention any SIDE EFFECT?, dtype: int64\n",
            "0 - NO                     89.931574\n",
            "1 - YES                     8.113392\n",
            "3 - review does not say     1.955034\n",
            "Name: did review mention any SIDE EFFECT?, dtype: float64\n"
          ],
          "name": "stdout"
        }
      ]
    }
  ]
}